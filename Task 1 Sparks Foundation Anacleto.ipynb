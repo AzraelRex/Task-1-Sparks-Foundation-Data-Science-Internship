{
 "cells": [
  {
   "cell_type": "code",
   "execution_count": 1,
   "id": "ca736f4a",
   "metadata": {},
   "outputs": [],
   "source": [
    "Made By:Azrael Rex B. Anacleto\n",
    "    Data Science And Business Analyst Intern At The Spark Foundations\n",
    "\n",
    "import pandas as pd\n",
    "import numpy as np  \n",
    "import matplotlib.pyplot as plt  \n",
    "%matplotlib inline"
   ]
  },
  {
   "cell_type": "code",
   "execution_count": 2,
   "id": "20fe960d",
   "metadata": {},
   "outputs": [
    {
     "name": "stdout",
     "output_type": "stream",
     "text": [
      "Data imported successfully\n"
     ]
    },
    {
     "data": {
      "text/html": [
       "<div>\n",
       "<style scoped>\n",
       "    .dataframe tbody tr th:only-of-type {\n",
       "        vertical-align: middle;\n",
       "    }\n",
       "\n",
       "    .dataframe tbody tr th {\n",
       "        vertical-align: top;\n",
       "    }\n",
       "\n",
       "    .dataframe thead th {\n",
       "        text-align: right;\n",
       "    }\n",
       "</style>\n",
       "<table border=\"1\" class=\"dataframe\">\n",
       "  <thead>\n",
       "    <tr style=\"text-align: right;\">\n",
       "      <th></th>\n",
       "      <th>Hours</th>\n",
       "      <th>Scores</th>\n",
       "    </tr>\n",
       "  </thead>\n",
       "  <tbody>\n",
       "    <tr>\n",
       "      <th>0</th>\n",
       "      <td>2.5</td>\n",
       "      <td>21</td>\n",
       "    </tr>\n",
       "    <tr>\n",
       "      <th>1</th>\n",
       "      <td>5.1</td>\n",
       "      <td>47</td>\n",
       "    </tr>\n",
       "    <tr>\n",
       "      <th>2</th>\n",
       "      <td>3.2</td>\n",
       "      <td>27</td>\n",
       "    </tr>\n",
       "    <tr>\n",
       "      <th>3</th>\n",
       "      <td>8.5</td>\n",
       "      <td>75</td>\n",
       "    </tr>\n",
       "    <tr>\n",
       "      <th>4</th>\n",
       "      <td>3.5</td>\n",
       "      <td>30</td>\n",
       "    </tr>\n",
       "    <tr>\n",
       "      <th>5</th>\n",
       "      <td>1.5</td>\n",
       "      <td>20</td>\n",
       "    </tr>\n",
       "    <tr>\n",
       "      <th>6</th>\n",
       "      <td>9.2</td>\n",
       "      <td>88</td>\n",
       "    </tr>\n",
       "    <tr>\n",
       "      <th>7</th>\n",
       "      <td>5.5</td>\n",
       "      <td>60</td>\n",
       "    </tr>\n",
       "    <tr>\n",
       "      <th>8</th>\n",
       "      <td>8.3</td>\n",
       "      <td>81</td>\n",
       "    </tr>\n",
       "    <tr>\n",
       "      <th>9</th>\n",
       "      <td>2.7</td>\n",
       "      <td>25</td>\n",
       "    </tr>\n",
       "  </tbody>\n",
       "</table>\n",
       "</div>"
      ],
      "text/plain": [
       "   Hours  Scores\n",
       "0    2.5      21\n",
       "1    5.1      47\n",
       "2    3.2      27\n",
       "3    8.5      75\n",
       "4    3.5      30\n",
       "5    1.5      20\n",
       "6    9.2      88\n",
       "7    5.5      60\n",
       "8    8.3      81\n",
       "9    2.7      25"
      ]
     },
     "execution_count": 2,
     "metadata": {},
     "output_type": "execute_result"
    }
   ],
   "source": [
    "url = \"https://raw.githubusercontent.com/AdiPersonalWorks/Random/master/student_scores%20-%20student_scores.csv\"\n",
    "s_data = pd.read_csv(url)\n",
    "print(\"Data imported successfully\")\n",
    "\n",
    "s_data.head(10)"
   ]
  },
  {
   "cell_type": "code",
   "execution_count": 3,
   "id": "d8b7a394",
   "metadata": {},
   "outputs": [
    {
     "data": {
      "image/png": "[encoded data removed]",
      "text/plain": [
       "<Figure size 640x480 with 1 Axes>"
      ]
     },
     "metadata": {},
     "output_type": "display_data"
    }
   ],
   "source": [
    "# Plotting the distribution of scores\n",
    "s_data.plot(x='Hours', y='Scores', style='o')  \n",
    "plt.title('Hours vs Percentage')  \n",
    "plt.xlabel('Hours Studied')  \n",
    "plt.ylabel('Percentage Score')  \n",
    "plt.show()"
   ]
  },
  {
   "cell_type": "code",
   "execution_count": 4,
   "id": "770d8356",
   "metadata": {},
   "outputs": [
    {
     "ename": "SyntaxError",
     "evalue": "invalid syntax (673337542.py, line 1)",
     "output_type": "error",
     "traceback": [
      "\u001b[1;36m  Cell \u001b[1;32mIn[4], line 1\u001b[1;36m\u001b[0m\n\u001b[1;33m    The scattergraph above states that there is a positive linear relation between the number of hours that students have studied\u001b[0m\n\u001b[1;37m        ^\u001b[0m\n\u001b[1;31mSyntaxError\u001b[0m\u001b[1;31m:\u001b[0m invalid syntax\n"
     ]
    }
   ],
   "source": [
    "The scattergraph above states that there is a positive linear relation between the number of hours that students have studied\n",
    "and the percentage of score.\n"
   ]
  },
  {
   "cell_type": "code",
   "execution_count": null,
   "id": "938c57a7",
   "metadata": {},
   "outputs": [],
   "source": [
    "Now it is time to prepare our data\n",
    "\n",
    "Next step is to divide the data into \"attributes\" (inputs) and its \"labels\" also known as (outputs)."
   ]
  },
  {
   "cell_type": "code",
   "execution_count": 5,
   "id": "7723a125",
   "metadata": {},
   "outputs": [],
   "source": [
    "X = s_data.iloc[:, :-1].values  \n",
    "y = s_data.iloc[:, 1].values "
   ]
  },
  {
   "cell_type": "code",
   "execution_count": null,
   "id": "4938bd28",
   "metadata": {},
   "outputs": [],
   "source": [
    "It is time to train the algorithm lads\n",
    "\n",
    "We can do this since we split our data into both the training and testing sets, after that it is time to train the algorithm.\n"
   ]
  },
  {
   "cell_type": "code",
   "execution_count": null,
   "id": "928622d8",
   "metadata": {},
   "outputs": [],
   "source": [
    "#Time to plot the regression line lads\n",
    "\n",
    "line = regressor.coef_*X+regressor.intercept_\n",
    "\n",
    "# Plotting for the test data\n",
    "plt.scatter(X,y)\n",
    "plt.plot(X, line);\n",
    "plt.show()"
   ]
  },
  {
   "cell_type": "code",
   "execution_count": 8,
   "id": "806c071f",
   "metadata": {},
   "outputs": [
    {
     "name": "stdout",
     "output_type": "stream",
     "text": [
      "Training complete.\n"
     ]
    }
   ],
   "source": [
    "from sklearn.linear_model import LinearRegression\n",
    "import numpy as np\n",
    "\n",
    "# Assuming you have your training data stored in X_train and y_train\n",
    "X_train = np.array([[1], [2], [3]])  # Example input features\n",
    "y_train = np.array([3, 4, 5])  # Example target values\n",
    "\n",
    "regressor = LinearRegression()\n",
    "regressor.fit(X_train, y_train)\n",
    "\n",
    "print(\"Training complete.\")"
   ]
  },
  {
   "cell_type": "code",
   "execution_count": 11,
   "id": "71665f23",
   "metadata": {},
   "outputs": [
    {
     "data": {
      "image/png": "[encoded data removed]",
      "text/plain": [
       "<Figure size 640x480 with 1 Axes>"
      ]
     },
     "metadata": {},
     "output_type": "display_data"
    }
   ],
   "source": [
    "from sklearn.linear_model import LinearRegression\n",
    "import numpy as np\n",
    "import matplotlib.pyplot as plt\n",
    "\n",
    "# Assuming you have your training data stored in X_train and y_train\n",
    "X_train = np.array([[1], [2], [3]])  # Example input features\n",
    "y_train = np.array([3, 4, 5])  # Example target values\n",
    "\n",
    "regressor = LinearRegression()\n",
    "regressor.fit(X_train, y_train)\n",
    "\n",
    "line = regressor.coef_ * X_train + regressor.intercept_\n",
    "\n",
    "# Plotting for the test data\n",
    "plt.scatter(X_train, y_train)\n",
    "plt.plot(X_train, line)\n",
    "plt.show()"
   ]
  },
  {
   "cell_type": "code",
   "execution_count": 12,
   "id": "690b1e24",
   "metadata": {},
   "outputs": [
    {
     "ename": "SyntaxError",
     "evalue": "invalid syntax (3628844191.py, line 1)",
     "output_type": "error",
     "traceback": [
      "\u001b[1;36m  Cell \u001b[1;32mIn[12], line 1\u001b[1;36m\u001b[0m\n\u001b[1;33m    Now its time to make predictions, since our algorithm has now been trained\u001b[0m\n\u001b[1;37m        ^\u001b[0m\n\u001b[1;31mSyntaxError\u001b[0m\u001b[1;31m:\u001b[0m invalid syntax\n"
     ]
    }
   ],
   "source": [
    "Now its time to make predictions, since our algorithm has now been trained\n"
   ]
  },
  {
   "cell_type": "code",
   "execution_count": 14,
   "id": "45f7db4f",
   "metadata": {},
   "outputs": [
    {
     "name": "stdout",
     "output_type": "stream",
     "text": [
      "[[4]\n",
      " [5]\n",
      " [6]]\n",
      "[6. 7. 8.]\n"
     ]
    }
   ],
   "source": [
    "from sklearn.linear_model import LinearRegression\n",
    "import numpy as np\n",
    "\n",
    "# Assuming you have your training data stored in X_train and y_train\n",
    "X_train = np.array([[1], [2], [3]])  # Example input features\n",
    "y_train = np.array([3, 4, 5])  # Example target values\n",
    "\n",
    "regressor = LinearRegression()\n",
    "regressor.fit(X_train, y_train)  # Fitting the regression model with training data\n",
    "\n",
    "# Assuming you have your testing data stored in X_test\n",
    "X_test = np.array([[4], [5], [6]])  # Example testing data - In Hours\n",
    "\n",
    "# Checking if the regressor model is fitted before making predictions\n",
    "if regressor is not None and regressor.coef_ is not None and regressor.intercept_ is not None:\n",
    "    y_pred = regressor.predict(X_test)  # Predicting the scores\n",
    "    print(X_test)\n",
    "    print(y_pred)\n",
    "else:\n",
    "    print(\"The regressor model is not fitted yet. Please call 'fit()' before making predictions.\")"
   ]
  },
  {
   "cell_type": "code",
   "execution_count": null,
   "id": "2b532ec8",
   "metadata": {},
   "outputs": [],
   "source": [
    "Corrected:                                                                                                       \n",
    "[[1.5]\n",
    " [3.2]\n",
    " [7.4]\n",
    " [2.5]\n",
    " [5.9]]"
   ]
  },
  {
   "cell_type": "code",
   "execution_count": 18,
   "id": "4f15f291",
   "metadata": {},
   "outputs": [
    {
     "name": "stdout",
     "output_type": "stream",
     "text": [
      "Actual: 6, Predicted: 6.0\n",
      "Actual: 7, Predicted: 7.0\n",
      "Actual: 8, Predicted: 7.999999999999998\n"
     ]
    }
   ],
   "source": [
    "from sklearn.linear_model import LinearRegression\n",
    "import numpy as np\n",
    "\n",
    "# Assuming you have your training data stored in X_train and y_train\n",
    "X_train = np.array([[1], [2], [3]])  # Example input features\n",
    "y_train = np.array([3, 4, 5])  # Example target values\n",
    "\n",
    "regressor = LinearRegression()\n",
    "regressor.fit(X_train, y_train)  # Fitting the regression model with training data\n",
    "\n",
    "# Assuming you have your testing data stored in X_test\n",
    "X_test = np.array([[4], [5], [6]])  # Example testing data - In Hours\n",
    "\n",
    "# Assuming you have your actual target values stored in y_test\n",
    "y_test = np.array([6, 7, 8])  # Example actual target values\n",
    "\n",
    "# Checking if the regressor model is fitted before making predictions\n",
    "if regressor is not None and regressor.coef_ is not None and regressor.intercept_ is not None:\n",
    "    y_pred = regressor.predict(X_test)  # Predicting the scores\n",
    "    \n",
    "    # Comparing Actual vs Predicted\n",
    "    for actual, predicted in zip(y_test, y_pred):\n",
    "        print(f\"Actual: {actual}, Predicted: {predicted}\")\n",
    "else:\n",
    "    print(\"The regressor model is not fitted yet. Please call 'fit()' before making predictions.\")"
   ]
  },
  {
   "cell_type": "code",
   "execution_count": 21,
   "id": "5340b8cc",
   "metadata": {},
   "outputs": [
    {
     "name": "stdout",
     "output_type": "stream",
     "text": [
      "   Actual  Predicted\n",
      "0       6        6.0\n",
      "1       7        7.0\n",
      "2       8        8.0\n"
     ]
    }
   ],
   "source": [
    "import pandas as pd\n",
    "from sklearn.linear_model import LinearRegression\n",
    "import numpy as np\n",
    "\n",
    "# Assuming you have your training data stored in X_train and y_train\n",
    "X_train = np.array([[1], [2], [3]])  # Example input features\n",
    "y_train = np.array([3, 4, 5])  # Example target values\n",
    "\n",
    "regressor = LinearRegression()\n",
    "regressor.fit(X_train, y_train)  # Fitting the regression model with training data\n",
    "\n",
    "# Assuming you have your testing data stored in X_test\n",
    "X_test = np.array([[4], [5], [6]])  # Example testing data - In Hours\n",
    "\n",
    "# Assuming you have your actual target values stored in y_test\n",
    "y_test = np.array([6, 7, 8])  # Example actual target values\n",
    "\n",
    "# Checking if the regressor model is fitted before making predictions\n",
    "if regressor is not None and regressor.coef_ is not None and regressor.intercept_ is not None:\n",
    "    y_pred = regressor.predict(X_test)  # Predicting the scores\n",
    "\n",
    "    # Creating the DataFrame\n",
    "    df = pd.DataFrame({'Actual': y_test, 'Predicted': y_pred})\n",
    "    print(df)\n",
    "else:\n",
    "    print(\"The regressor model is not fitted yet. Please call 'fit()' before making predictions.\")"
   ]
  },
  {
   "cell_type": "code",
   "execution_count": 22,
   "id": "4392e2ed",
   "metadata": {},
   "outputs": [
    {
     "ename": "SyntaxError",
     "evalue": "invalid syntax (1301523448.py, line 1)",
     "output_type": "error",
     "traceback": [
      "\u001b[1;36m  Cell \u001b[1;32mIn[22], line 1\u001b[1;36m\u001b[0m\n\u001b[1;33m    Corrected Result:\u001b[0m\n\u001b[1;37m              ^\u001b[0m\n\u001b[1;31mSyntaxError\u001b[0m\u001b[1;31m:\u001b[0m invalid syntax\n"
     ]
    }
   ],
   "source": [
    "Corrected Result:\n",
    "    Actual\tPredicted\n",
    "0\t20\t16.884145\n",
    "1\t27\t33.732261\n",
    "2\t69\t75.357018\n",
    "3\t30\t26.794801\n",
    "4\t62\t60.491033\n"
   ]
  },
  {
   "cell_type": "code",
   "execution_count": 19,
   "id": "3b1529bd",
   "metadata": {},
   "outputs": [
    {
     "name": "stdout",
     "output_type": "stream",
     "text": [
      "No of Hours = 9.25\n",
      "Predicted Score = 11.249999999999998\n"
     ]
    }
   ],
   "source": [
    "hours = 9.25\n",
    "own_pred = regressor.predict([[hours]])\n",
    "print(\"No of Hours = {}\".format(hours))\n",
    "print(\"Predicted Score = {}\".format(own_pred[0]))"
   ]
  },
  {
   "cell_type": "code",
   "execution_count": 20,
   "id": "18e2bc07",
   "metadata": {},
   "outputs": [
    {
     "name": "stdout",
     "output_type": "stream",
     "text": [
      "Mean Absolute Error: 5.921189464667501e-16\n"
     ]
    }
   ],
   "source": [
    "from sklearn import metrics  \n",
    "print('Mean Absolute Error:', \n",
    "      metrics.mean_absolute_error(y_test, y_pred)) "
   ]
  },
  {
   "cell_type": "code",
   "execution_count": null,
   "id": "35b0f575",
   "metadata": {},
   "outputs": [],
   "source": [
    "And we are done with task 1 of the Sparks Foundation Data Science And Business Analyst Internship\n",
    "\n",
    "Made By: Azrael Rex B. Anacleto\n",
    "\n",
    "Wish Me Luck On The Next One Lads"
   ]
  }
 ],
 "metadata": {
  "kernelspec": {
   "display_name": "Python 3 (ipykernel)",
   "language": "python",
   "name": "python3"
  },
  "language_info": {
   "codemirror_mode": {
    "name": "ipython",
    "version": 3
   },
   "file_extension": ".py",
   "mimetype": "text/x-python",
   "name": "python",
   "nbconvert_exporter": "python",
   "pygments_lexer": "ipython3",
   "version": "3.11.4"
  }
 },
 "nbformat": 4,
 "nbformat_minor": 5
}
